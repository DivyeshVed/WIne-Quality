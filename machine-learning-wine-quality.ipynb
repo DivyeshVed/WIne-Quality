{
 "cells": [
  {
   "cell_type": "code",
   "execution_count": null,
   "metadata": {},
   "outputs": [],
   "source": [
    "#############\n",
    "## IMPORTS ##\n",
    "#############\n",
    "import pandas as pd\n",
    "import numpy as np\n",
    "import sklearn.preprocessing"
   ]
  },
  {
   "cell_type": "code",
   "execution_count": null,
   "metadata": {},
   "outputs": [],
   "source": [
    "#####################################\n",
    "## READING RED AND WHITE WINE DATA ##\n",
    "#####################################\n",
    "redWineData = pd.read_csv(\"./data/winequality-red.csv\")\n",
    "whiteWineData = pd.read_csv(\"./data/winequality-white.csv\")"
   ]
  }
 ],
 "metadata": {
  "language_info": {
   "name": "python"
  },
  "orig_nbformat": 4
 },
 "nbformat": 4,
 "nbformat_minor": 2
}
