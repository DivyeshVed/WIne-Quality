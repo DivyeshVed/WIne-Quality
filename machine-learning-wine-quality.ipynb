{
 "cells": [
  {
   "cell_type": "code",
   "execution_count": 19,
   "metadata": {},
   "outputs": [],
   "source": [
    "#############\n",
    "## IMPORTS ##\n",
    "#############\n",
    "import pandas as pd\n",
    "import numpy as np\n",
    "from sklearn.linear_model import LogisticRegression"
   ]
  },
  {
   "cell_type": "code",
   "execution_count": 20,
   "metadata": {},
   "outputs": [],
   "source": [
    "#####################################\n",
    "## READING RED AND WHITE WINE DATA ##\n",
    "#####################################\n",
    "redWineData = pd.read_csv(\"./data/winequality-red.csv\")\n",
    "whiteWineData = pd.read_csv(\"./data/winequality-white.csv\")"
   ]
  },
  {
   "cell_type": "code",
   "execution_count": 21,
   "metadata": {},
   "outputs": [
    {
     "name": "stdout",
     "output_type": "stream",
     "text": [
      "The red wine training data has 1067 rows.\n",
      "The red wine test data has 532 rows.\n",
      "The white wine training data has 3266 rows.\n",
      "The white wine test data has 1631 rows.\n"
     ]
    }
   ],
   "source": [
    "###################################################\n",
    "## SPLITTING DATA INTO TRAINING DATA & TEST DATA ##\n",
    "###################################################\n",
    "# Making the fractions that are used to split the data into training, testing and validation data.\n",
    "trainingData = 2/3\n",
    "testData = 1/3\n",
    "# Getting the dimensions of the redWineData and the whiteWineData.\n",
    "redDimension = redWineData.shape\n",
    "whiteDimension = whiteWineData.shape\n",
    "# Getting the number of row that would be the cutoff for red and white wine trianing data. \n",
    "redTrainingRows = redDimension[0] * trainingData\n",
    "whiteTrainingRows = whiteDimension[0] * trainingData\n",
    "# Getting the training and y data for the red wine. \n",
    "redTrainingData = redWineData.loc[0:redTrainingRows]\n",
    "redQualityTrainingData = redTrainingData['quality']\n",
    "redTrainingData = redTrainingData.drop('quality', axis=1).reset_index()\n",
    "# Getting the test and y data for red wine. \n",
    "redTestData = redWineData.loc[redTrainingRows+1:]\n",
    "redQualityTestData = redTestData['quality']\n",
    "redTestData = redTestData.drop('quality', axis=1).reset_index()\n",
    "# Getting the training and y data for the white wine. \n",
    "whiteTrainingData = whiteWineData.loc[0:whiteTrainingRows]\n",
    "whiteQualityTrainingData = whiteTrainingData['quality']\n",
    "whiteTrainingData = whiteTrainingData.drop('quality', axis=1).reset_index()\n",
    "# Getting the test and y data for red wine. \n",
    "whiteTestData = whiteWineData.loc[whiteTrainingRows+1:]\n",
    "whiteQualityTestData = whiteTestData['quality']\n",
    "whiteTestData = whiteTestData.drop('quality', axis=1).reset_index()\n",
    "\n",
    "print(\"The red wine training data has \" + str(len(redTrainingData)) + \" rows.\")\n",
    "print(\"The red wine test data has \" + str(len(redTestData)) + \" rows.\")\n",
    "print(\"The white wine training data has \" + str(len(whiteTrainingData)) + \" rows.\")\n",
    "print(\"The white wine test data has \" + str(len(whiteTestData)) + \" rows.\")"
   ]
  },
  {
   "cell_type": "code",
   "execution_count": 25,
   "metadata": {},
   "outputs": [
    {
     "name": "stdout",
     "output_type": "stream",
     "text": [
      "<class 'numpy.ndarray'>\n"
     ]
    },
    {
     "name": "stderr",
     "output_type": "stream",
     "text": [
      "/Users/divyeshved/miniconda3/lib/python3.10/site-packages/sklearn/linear_model/_logistic.py:458: ConvergenceWarning: lbfgs failed to converge (status=1):\n",
      "STOP: TOTAL NO. of ITERATIONS REACHED LIMIT.\n",
      "\n",
      "Increase the number of iterations (max_iter) or scale the data as shown in:\n",
      "    https://scikit-learn.org/stable/modules/preprocessing.html\n",
      "Please also refer to the documentation for alternative solver options:\n",
      "    https://scikit-learn.org/stable/modules/linear_model.html#logistic-regression\n",
      "  n_iter_i = _check_optimize_result(\n"
     ]
    }
   ],
   "source": [
    "###############################\n",
    "## LOGISTIC REGRESSION MODEL ##\n",
    "###############################\n",
    "redLR = LogisticRegression()\n",
    "redLR.fit(redTrainingData, redQualityTrainingData)\n",
    "predictions = redLR.predict(redTestData)\n"
   ]
  },
  {
   "cell_type": "code",
   "execution_count": null,
   "metadata": {},
   "outputs": [],
   "source": []
  }
 ],
 "metadata": {
  "kernelspec": {
   "display_name": "base",
   "language": "python",
   "name": "python3"
  },
  "language_info": {
   "codemirror_mode": {
    "name": "ipython",
    "version": 3
   },
   "file_extension": ".py",
   "mimetype": "text/x-python",
   "name": "python",
   "nbconvert_exporter": "python",
   "pygments_lexer": "ipython3",
   "version": "3.10.10"
  },
  "orig_nbformat": 4
 },
 "nbformat": 4,
 "nbformat_minor": 2
}
